{
 "nbformat": 4,
 "nbformat_minor": 0,
 "metadata": {
  "colab": {
   "name": "EELS_tutorial.ipynb",
   "provenance": [],
   "collapsed_sections": []
  },
  "kernelspec": {
   "name": "python3",
   "display_name": "Python 3"
  },
  "language_info": {
   "name": "python"
  }
 },
 "cells": [
  {
   "cell_type": "markdown",
   "metadata": {
    "id": "BSRNNZgoVtPi"
   },
   "source": [
    "# **Zero-Loss Peak Subtraction with Neural Networks**"
   ]
  },
  {
   "cell_type": "markdown",
   "source": [
    "[![Open In Colab](https://colab.research.google.com/assets/colab-badge.svg)](https://colab.research.google.com/github/jacoterh/TEM_ML/blob/master/EELS_tutorial.ipynb]"
   ],
   "metadata": {
    "collapsed": false
   }
  },
  {
   "cell_type": "markdown",
   "source": [
    "## Loading the data"
   ],
   "metadata": {
    "collapsed": false
   }
  },
  {
   "cell_type": "markdown",
   "metadata": {
    "id": "pQsIRy-waF_C"
   },
   "source": [
    "First of all, let us install and import all the required modules"
   ]
  },
  {
   "cell_type": "code",
   "metadata": {
    "colab": {
     "base_uri": "https://localhost:8080/"
    },
    "id": "3I4WpmjXaqMh",
    "outputId": "fd616d47-230c-4f4c-a59b-06751b358cbd"
   },
   "source": [
    "!pip install ncempy"
   ],
   "execution_count": 2,
   "outputs": [
    {
     "output_type": "stream",
     "text": [
      "Collecting ncempy\n",
      "\u001B[?25l  Downloading https://files.pythonhosted.org/packages/79/d2/2e62048af2d5e329a25dcc26cc085acea32b4aaef5551764a344c9d89cf5/ncempy-1.8.1-py3-none-any.whl (278kB)\n",
      "\r\u001B[K     |█▏                              | 10kB 16.3MB/s eta 0:00:01\r\u001B[K     |██▍                             | 20kB 21.0MB/s eta 0:00:01\r\u001B[K     |███▌                            | 30kB 12.6MB/s eta 0:00:01\r\u001B[K     |████▊                           | 40kB 9.9MB/s eta 0:00:01\r\u001B[K     |█████▉                          | 51kB 8.0MB/s eta 0:00:01\r\u001B[K     |███████                         | 61kB 9.3MB/s eta 0:00:01\r\u001B[K     |████████▎                       | 71kB 8.0MB/s eta 0:00:01\r\u001B[K     |█████████▍                      | 81kB 8.8MB/s eta 0:00:01\r\u001B[K     |██████████▋                     | 92kB 8.2MB/s eta 0:00:01\r\u001B[K     |███████████▊                    | 102kB 7.7MB/s eta 0:00:01\r\u001B[K     |█████████████                   | 112kB 7.7MB/s eta 0:00:01\r\u001B[K     |██████████████▏                 | 122kB 7.7MB/s eta 0:00:01\r\u001B[K     |███████████████▎                | 133kB 7.7MB/s eta 0:00:01\r\u001B[K     |████████████████▌               | 143kB 7.7MB/s eta 0:00:01\r\u001B[K     |█████████████████▋              | 153kB 7.7MB/s eta 0:00:01\r\u001B[K     |██████████████████▉             | 163kB 7.7MB/s eta 0:00:01\r\u001B[K     |████████████████████            | 174kB 7.7MB/s eta 0:00:01\r\u001B[K     |█████████████████████▏          | 184kB 7.7MB/s eta 0:00:01\r\u001B[K     |██████████████████████▍         | 194kB 7.7MB/s eta 0:00:01\r\u001B[K     |███████████████████████▌        | 204kB 7.7MB/s eta 0:00:01\r\u001B[K     |████████████████████████▊       | 215kB 7.7MB/s eta 0:00:01\r\u001B[K     |██████████████████████████      | 225kB 7.7MB/s eta 0:00:01\r\u001B[K     |███████████████████████████     | 235kB 7.7MB/s eta 0:00:01\r\u001B[K     |████████████████████████████▎   | 245kB 7.7MB/s eta 0:00:01\r\u001B[K     |█████████████████████████████▍  | 256kB 7.7MB/s eta 0:00:01\r\u001B[K     |██████████████████████████████▋ | 266kB 7.7MB/s eta 0:00:01\r\u001B[K     |███████████████████████████████▊| 276kB 7.7MB/s eta 0:00:01\r\u001B[K     |████████████████████████████████| 286kB 7.7MB/s \n",
      "\u001B[?25hRequirement already satisfied: h5py>=2.9.0 in /usr/local/lib/python3.7/dist-packages (from ncempy) (2.10.0)\n",
      "Requirement already satisfied: numpy in /usr/local/lib/python3.7/dist-packages (from ncempy) (1.19.5)\n",
      "Requirement already satisfied: matplotlib in /usr/local/lib/python3.7/dist-packages (from ncempy) (3.2.2)\n",
      "Requirement already satisfied: scipy in /usr/local/lib/python3.7/dist-packages (from ncempy) (1.4.1)\n",
      "Requirement already satisfied: six in /usr/local/lib/python3.7/dist-packages (from h5py>=2.9.0->ncempy) (1.15.0)\n",
      "Requirement already satisfied: pyparsing!=2.0.4,!=2.1.2,!=2.1.6,>=2.0.1 in /usr/local/lib/python3.7/dist-packages (from matplotlib->ncempy) (2.4.7)\n",
      "Requirement already satisfied: python-dateutil>=2.1 in /usr/local/lib/python3.7/dist-packages (from matplotlib->ncempy) (2.8.1)\n",
      "Requirement already satisfied: kiwisolver>=1.0.1 in /usr/local/lib/python3.7/dist-packages (from matplotlib->ncempy) (1.3.1)\n",
      "Requirement already satisfied: cycler>=0.10 in /usr/local/lib/python3.7/dist-packages (from matplotlib->ncempy) (0.10.0)\n",
      "Installing collected packages: ncempy\n",
      "Successfully installed ncempy-1.8.1\n"
     ],
     "name": "stdout"
    }
   ]
  },
  {
   "cell_type": "code",
   "metadata": {
    "id": "XQNv_xu6aQOm"
   },
   "source": [
    "from ncempy.io import dm\n",
    "import numpy as np\n"
   ],
   "execution_count": 3,
   "outputs": []
  },
  {
   "cell_type": "code",
   "metadata": {
    "id": "kN-4ZK1xZ3sG"
   },
   "source": [
    "  class Spectral_image():\n",
    "\n",
    "    def __init__(self, data, deltadeltaE, pixelsize=None, name=None):\n",
    "        self.data = data\n",
    "        self.ddeltaE = deltadeltaE\n",
    "        self.deltaE = self.determine_deltaE()\n",
    "\n",
    "        if pixelsize is not None:\n",
    "          self.pixelsize = pixelsize * 1E6\n",
    "        if name is not None: \n",
    "          self.name = name\n",
    "        \n",
    "\n",
    "    def determine_deltaE(self):\n",
    "        data_avg = np.average(self.data, axis=(0, 1))\n",
    "        ind_max = np.argmax(data_avg)\n",
    "        self.deltaE = np.linspace(-ind_max * self.ddeltaE, (self.l - ind_max - 1) * self.ddeltaE, self.l)\n",
    "        return self.deltaE\n",
    "\n",
    "    @staticmethod\n",
    "    def get_prefix(unit, SIunit=None, numeric=True):\n",
    "        if SIunit is not None:\n",
    "            lenSI = len(SIunit)\n",
    "            if unit[-lenSI:] == SIunit:\n",
    "                prefix = unit[:-lenSI]\n",
    "                if len(prefix) == 0:\n",
    "                    if numeric:\n",
    "                        return 1\n",
    "                    else:\n",
    "                        return prefix\n",
    "            else:\n",
    "                print(\"provided unit not same as target unit: \" + unit + \", and \" + SIunit)\n",
    "                if numeric:\n",
    "                    return 1\n",
    "                else:\n",
    "                    return prefix\n",
    "        else:\n",
    "            prefix = unit[0]\n",
    "        if not numeric:\n",
    "            return prefix\n",
    "\n",
    "        if prefix == 'p':\n",
    "            return 1E-12\n",
    "        if prefix == 'n':\n",
    "            return 1E-9\n",
    "        if prefix in ['μ', 'µ' ,'u', 'micron']:\n",
    "            return 1E-6\n",
    "        if prefix == 'm':\n",
    "            return 1E-3\n",
    "        if prefix == 'k':\n",
    "            return 1E3\n",
    "        if prefix == 'M':\n",
    "            return 1E6\n",
    "        if prefix == 'G':\n",
    "            return 1E9\n",
    "        if prefix == 'T':\n",
    "            return 1E12\n",
    "        else:\n",
    "            print(\"either no or unknown prefix in unit: \" + unit + \", found prefix \" + prefix + \", asuming no.\")\n",
    "        return 1\n",
    "\n",
    "    def load_data(cls, path_to_dmfile, load_additional_data=False):\n",
    "        \"\"\"\n",
    "        INPUT: \n",
    "            path_to_dmfile: str, path to spectral image file (.dm3 or .dm4 extension)\n",
    "        OUTPUT:\n",
    "            image -- Spectral_image, object of Spectral_image class containing the data of the dm-file\n",
    "        \"\"\"\n",
    "        dmfile_tot = dm.fileDM(path_to_dmfile)\n",
    "        additional_data = []\n",
    "        for i in range(dmfile_tot.numObjects - dmfile_tot.thumbnail * 1):\n",
    "            dmfile = dmfile_tot.getDataset(i)\n",
    "            if dmfile['data'].ndim == 3:\n",
    "                dmfile = dmfile_tot.getDataset(i)\n",
    "                data = np.swapaxes(np.swapaxes(dmfile['data'], 0, 1), 1, 2)\n",
    "                if not load_additional_data:\n",
    "                    break\n",
    "            elif load_additional_data:\n",
    "                additional_data.append(dmfile_tot.getDataset(i))\n",
    "            if i == dmfile_tot.numObjects - dmfile_tot.thumbnail * 1 - 1:\n",
    "                if (len(additional_data) == i + 1) or not load_additional_data:\n",
    "                    print(\"No spectral image detected\")\n",
    "                    dmfile = dmfile_tot.getDataset(0)\n",
    "                    data = dmfile['data']\n",
    "\n",
    "        ddeltaE = dmfile['pixelSize'][0]\n",
    "        pixelsize = np.array(dmfile['pixelSize'][1:])\n",
    "        energyUnit = dmfile['pixelUnit'][0]\n",
    "        ddeltaE *= cls.get_prefix(energyUnit, 'eV')\n",
    "        pixelUnit = dmfile['pixelUnit'][1]\n",
    "        pixelsize *= cls.get_prefix(pixelUnit, 'm')\n",
    "        image = cls(data, ddeltaE, pixelsize=pixelsize, name=path_to_dmfile[:-4])\n",
    "        if load_additional_data:\n",
    "            image.additional_data = additional_data\n",
    "        return image"
   ],
   "execution_count": null,
   "outputs": []
  },
  {
   "cell_type": "markdown",
   "metadata": {
    "id": "2hg7rObaWQTl"
   },
   "source": [
    "## Plotting the data"
   ]
  },
  {
   "cell_type": "markdown",
   "metadata": {
    "id": "cL1tpF8DWX1z"
   },
   "source": [
    "## Monte Carlo replica method"
   ]
  },
  {
   "cell_type": "markdown",
   "metadata": {
    "id": "vmWPVVviWiXP"
   },
   "source": [
    "## Constructing the Neural Network"
   ]
  },
  {
   "cell_type": "markdown",
   "metadata": {
    "id": "Adh96WaFWuCE"
   },
   "source": [
    "## Training the ZLP"
   ]
  },
  {
   "cell_type": "markdown",
   "metadata": {
    "id": "nPjkV5ExW2Wb"
   },
   "source": [
    "## ZLP subtraction"
   ]
  },
  {
   "cell_type": "markdown",
   "metadata": {
    "id": "06jj40QZXKU8"
   },
   "source": [
    "## Bandgap fit"
   ]
  }
 ]
}
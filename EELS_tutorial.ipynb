{
 "cells": [
  {
   "cell_type": "markdown",
   "metadata": {
    "id": "BSRNNZgoVtPi"
   },
   "source": [
    "# **Zero-Loss Peak Subtraction with Neural Networks**"
   ]
  },
  {
   "cell_type": "markdown",
   "metadata": {},
   "source": [
    "[![Open In Colab](https://colab.research.google.com/assets/colab-badge.svg)](https://colab.research.google.com/github/jacoterh/TEM_ML/blob/master/EELS_tutorial.ipynb)"
   ]
  },
  {
   "cell_type": "markdown",
   "metadata": {},
   "source": [
    "## Loading the data"
   ]
  },
  {
   "cell_type": "markdown",
   "metadata": {
    "id": "pQsIRy-waF_C"
   },
   "source": [
    "First of all, let us install and import all the required modules"
   ]
  },
  {
   "cell_type": "code",
   "execution_count": 9,
   "metadata": {
    "colab": {
     "base_uri": "https://localhost:8080/"
    },
    "id": "3I4WpmjXaqMh",
    "outputId": "fd616d47-230c-4f4c-a59b-06751b358cbd"
   },
   "outputs": [
    {
     "name": "stdout",
     "output_type": "stream",
     "text": [
      "Collecting ncempy\n",
      "  Downloading ncempy-1.8.1-py3-none-any.whl (278 kB)\n",
      "\u001B[K     |████████████████████████████████| 278 kB 10.1 MB/s eta 0:00:01\n",
      "\u001B[?25hRequirement already satisfied: h5py>=2.9.0 in /Users/jaco/opt/anaconda3/lib/python3.8/site-packages (from ncempy) (2.10.0)\n",
      "Requirement already satisfied: scipy in /Users/jaco/opt/anaconda3/lib/python3.8/site-packages (from ncempy) (1.5.2)\n",
      "Requirement already satisfied: numpy in /Users/jaco/opt/anaconda3/lib/python3.8/site-packages (from ncempy) (1.19.2)\n",
      "Requirement already satisfied: matplotlib in /Users/jaco/opt/anaconda3/lib/python3.8/site-packages (from ncempy) (3.3.2)\n",
      "Requirement already satisfied: six in /Users/jaco/opt/anaconda3/lib/python3.8/site-packages (from h5py>=2.9.0->ncempy) (1.15.0)\n",
      "Requirement already satisfied: pillow>=6.2.0 in /Users/jaco/opt/anaconda3/lib/python3.8/site-packages (from matplotlib->ncempy) (8.0.1)\n",
      "Requirement already satisfied: kiwisolver>=1.0.1 in /Users/jaco/opt/anaconda3/lib/python3.8/site-packages (from matplotlib->ncempy) (1.3.0)\n",
      "Requirement already satisfied: cycler>=0.10 in /Users/jaco/opt/anaconda3/lib/python3.8/site-packages (from matplotlib->ncempy) (0.10.0)\n",
      "Requirement already satisfied: pyparsing!=2.0.4,!=2.1.2,!=2.1.6,>=2.0.3 in /Users/jaco/opt/anaconda3/lib/python3.8/site-packages (from matplotlib->ncempy) (2.4.7)\n",
      "Requirement already satisfied: certifi>=2020.06.20 in /Users/jaco/opt/anaconda3/lib/python3.8/site-packages (from matplotlib->ncempy) (2020.12.5)\n",
      "Requirement already satisfied: python-dateutil>=2.1 in /Users/jaco/opt/anaconda3/lib/python3.8/site-packages (from matplotlib->ncempy) (2.8.1)\n",
      "Installing collected packages: ncempy\n",
      "Successfully installed ncempy-1.8.1\n"
     ]
    }
   ],
   "source": [
    "!pip install ncempy"
   ]
  },
  {
   "cell_type": "code",
   "execution_count": 53,
   "metadata": {
    "id": "XQNv_xu6aQOm"
   },
   "outputs": [],
   "source": [
    "from ncempy.io import dm\n",
    "import numpy as np\n",
    "import matplotlib.pyplot as plt\n",
    "import imageClass as EELSImage"
   ]
  },
  {
   "cell_type": "markdown",
   "metadata": {},
   "source": [
    "In this tutorial, we will study.....\n",
    "\n",
    "The spectral image can be imported with the lines below"
   ]
  },
  {
   "cell_type": "code",
   "execution_count": 54,
   "metadata": {},
   "outputs": [],
   "source": [
    "path_to_dm4 = 'area03-eels-SI-aligned.dm4'\n",
    "im = EELSImage.Spectral_image.load_data(path_to_dm4)"
   ]
  },
  {
   "cell_type": "markdown",
   "metadata": {
    "id": "2hg7rObaWQTl"
   },
   "source": [
    "## Plotting the data"
   ]
  },
  {
   "cell_type": "code",
   "execution_count": 57,
   "metadata": {},
   "outputs": [
    {
     "data": {
      "image/png": "[encoded data removed]",
      "text/plain": [
       "<Figure size 432x288 with 1 Axes>"
      ]
     },
     "metadata": {
      "needs_background": "light"
     },
     "output_type": "display_data"
    }
   ],
   "source": [
    "im.plot_all(10, 20)"
   ]
  },
  {
   "cell_type": "markdown",
   "metadata": {
    "id": "cL1tpF8DWX1z"
   },
   "source": [
    "## Monte Carlo replica method"
   ]
  },
  {
   "cell_type": "markdown",
   "metadata": {
    "id": "vmWPVVviWiXP"
   },
   "source": [
    "## Constructing the Neural Network"
   ]
  },
  {
   "cell_type": "markdown",
   "metadata": {
    "id": "Adh96WaFWuCE"
   },
   "source": [
    "## Training the ZLP"
   ]
  },
  {
   "cell_type": "markdown",
   "metadata": {
    "id": "nPjkV5ExW2Wb"
   },
   "source": [
    "## ZLP subtraction"
   ]
  },
  {
   "cell_type": "markdown",
   "metadata": {
    "id": "06jj40QZXKU8"
   },
   "source": [
    "## Bandgap fit"
   ]
  },
  {
   "cell_type": "code",
   "execution_count": null,
   "metadata": {},
   "outputs": [],
   "source": []
  }
 ],
 "metadata": {
  "colab": {
   "collapsed_sections": [],
   "name": "EELS_tutorial.ipynb",
   "provenance": []
  },
  "kernelspec": {
   "display_name": "Python 3",
   "language": "python",
   "name": "python3"
  },
  "language_info": {
   "codemirror_mode": {
    "name": "ipython",
    "version": 3
   },
   "file_extension": ".py",
   "mimetype": "text/x-python",
   "name": "python",
   "nbconvert_exporter": "python",
   "pygments_lexer": "ipython3",
   "version": "3.8.5"
  }
 },
 "nbformat": 4,
 "nbformat_minor": 1
}